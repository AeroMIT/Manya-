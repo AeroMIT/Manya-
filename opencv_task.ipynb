{
 "cells": [
  {
   "cell_type": "markdown",
   "id": "c89b67f1-6648-422f-88d4-cd5400e7fb63",
   "metadata": {},
   "source": [
    "Detecting the red and the purple fruit"
   ]
  },
  {
   "cell_type": "code",
   "execution_count": 60,
   "id": "51c65d7e-d2bc-4be7-ac6f-5401fc119e51",
   "metadata": {},
   "outputs": [],
   "source": [
    "import cv2\n",
    "import numpy as np\n",
    "\n",
    "img = cv2.imread('fruit.jpg', cv2.IMREAD_COLOR)\n",
    "img = cv2.resize(img, (900, 900))\n",
    "hsv = cv2.cvtColor(img, cv2.COLOR_BGR2HSV)\n",
    "\n",
    "\n",
    "lower_purple = np.array([126, 150, 83])#([129, 103, 83])\n",
    "upper_purple = np.array([137, 255, 255]) #([145, 255, 255])\n",
    "mask1 = cv2.inRange(hsv, lower_purple, upper_purple)\n",
    "\n",
    "lower_red = np.array([0, 120, 70])\n",
    "upper_red = np.array([10, 255, 255])\n",
    "mask2 = cv2.inRange(hsv, lower_red, upper_red)\n",
    "\n",
    "#mask = mask1 + mask2\n",
    "\n",
    "kernel = np.ones((2,2), np.uint8)\n",
    "erosion = cv2.erode(mask1, kernel, iterations = 1)\n",
    "dilation = cv2.dilate(erosion, kernel, iterations = 2)\n",
    "\n",
    "result = cv2.bitwise_and(img, img, mask=dilation)\n",
    "\n",
    "\n",
    "#cv2.imshow('original', img)\n",
    "cv2.imshow('mask', mask1)\n",
    "#cv2.imshow('erosion', erosion)\n",
    "#cv2.imshow('dilate', dilation)\n",
    "cv2.imshow('closed', closed)\n",
    "cv2.imshow('result', result)\n",
    "\n",
    "cv2.waitKey(0)\n",
    "cv2.destroyAllWindows()\n"
   ]
  },
  {
   "cell_type": "code",
   "execution_count": null,
   "id": "10b20f88-72cd-47da-a35a-82a1824cd95b",
   "metadata": {},
   "outputs": [],
   "source": []
  },
  {
   "cell_type": "code",
   "execution_count": null,
   "id": "9020fc2c-830e-4a2f-b2c0-108949dece78",
   "metadata": {},
   "outputs": [],
   "source": []
  }
 ],
 "metadata": {
  "kernelspec": {
   "display_name": "Python 3 (ipykernel)",
   "language": "python",
   "name": "python3"
  },
  "language_info": {
   "codemirror_mode": {
    "name": "ipython",
    "version": 3
   },
   "file_extension": ".py",
   "mimetype": "text/x-python",
   "name": "python",
   "nbconvert_exporter": "python",
   "pygments_lexer": "ipython3",
   "version": "3.11.3"
  }
 },
 "nbformat": 4,
 "nbformat_minor": 5
}
