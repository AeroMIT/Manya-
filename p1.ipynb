{
 "cells": [
  {
   "cell_type": "markdown",
   "id": "5810742a-c6ad-4178-a73c-aa4ead5230b3",
   "metadata": {},
   "source": [
    "First Code"
   ]
  },
  {
   "cell_type": "code",
   "execution_count": 1,
   "id": "b2c6d6e0-072b-4078-8267-dac30763937d",
   "metadata": {},
   "outputs": [
    {
     "name": "stdout",
     "output_type": "stream",
     "text": [
      "hello world\n"
     ]
    }
   ],
   "source": [
    "print('hello world')"
   ]
  },
  {
   "cell_type": "markdown",
   "id": "25d4db0b-27b1-43ec-b1e9-eaf2baad6838",
   "metadata": {},
   "source": [
    "Exercise:"
   ]
  },
  {
   "cell_type": "code",
   "execution_count": 2,
   "id": "debb3d6c-0487-49d0-bc9e-07375fcb9fc6",
   "metadata": {},
   "outputs": [
    {
     "name": "stdin",
     "output_type": "stream",
     "text": [
      "Enter file name:  mbox-short.txt\n"
     ]
    },
    {
     "name": "stdout",
     "output_type": "stream",
     "text": [
      "stephen.marquard@uct.ac.za\n",
      "louis@media.berkeley.edu\n",
      "zqian@umich.edu\n",
      "rjlowe@iupui.edu\n",
      "zqian@umich.edu\n",
      "rjlowe@iupui.edu\n",
      "cwen@iupui.edu\n",
      "cwen@iupui.edu\n",
      "gsilver@umich.edu\n",
      "gsilver@umich.edu\n",
      "zqian@umich.edu\n",
      "gsilver@umich.edu\n",
      "wagnermr@iupui.edu\n",
      "zqian@umich.edu\n",
      "antranig@caret.cam.ac.uk\n",
      "gopal.ramasammycook@gmail.com\n",
      "david.horwitz@uct.ac.za\n",
      "david.horwitz@uct.ac.za\n",
      "david.horwitz@uct.ac.za\n",
      "david.horwitz@uct.ac.za\n",
      "stephen.marquard@uct.ac.za\n",
      "louis@media.berkeley.edu\n",
      "louis@media.berkeley.edu\n",
      "ray@media.berkeley.edu\n",
      "cwen@iupui.edu\n",
      "cwen@iupui.edu\n",
      "cwen@iupui.edu\n",
      "There were 27 lines in the file with From as the first word\n"
     ]
    }
   ],
   "source": [
    "fname = input(\"Enter file name: \")\n",
    "if len(fname) < 1:\n",
    "    fname = \"mbox-short.txt\"  # Default file name if input is empty\n",
    "\n",
    "try:\n",
    "    fh = open(fname)  # Open the file\n",
    "except FileNotFoundError:\n",
    "    print(\"File cannot be opened:\", fname)\n",
    "    exit()\n",
    "\n",
    "count = 0  # Initialize count\n",
    "\n",
    "for line in fh:\n",
    "    if line.startswith(\"From \"):  # Check if the line starts with 'From '\n",
    "        words = line.split()  # Split the line into words\n",
    "        if len(words) > 1:  # Ensure the line has enough words\n",
    "            print(words[1])  # Print the second word (email address)\n",
    "            count += 1  # Increase the count\n",
    "\n",
    "fh.close()  # Close the file\n",
    "\n",
    "print(\"There were\", count, \"lines in the file with From as the first word\")\n"
   ]
  },
  {
   "cell_type": "markdown",
   "id": "e5035f8d-057a-49cd-a8a1-6d59e31e74b1",
   "metadata": {},
   "source": [
    "Write a program to read through the mbox-short.txt and figure out who has sent the greatest number of mail messages. The program looks for 'From ' lines and takes the second word of those lines as the person who sent the mail. The program creates a Python dictionary that maps the sender's mail address to a count of the number of times they appear in the file. After the dictionary is produced, the program reads through the dictionary using a maximum loop to find the most prolific committer."
   ]
  },
  {
   "cell_type": "code",
   "execution_count": 1,
   "id": "c8c469c3-4bf8-4fdf-a3b0-03b046dba27f",
   "metadata": {},
   "outputs": [
    {
     "name": "stdin",
     "output_type": "stream",
     "text": [
      "Enter file:  mbox-short.txt\n"
     ]
    },
    {
     "name": "stdout",
     "output_type": "stream",
     "text": [
      "cwen@iupui.edu 5\n"
     ]
    }
   ],
   "source": [
    "name = input(\"Enter file: \")\n",
    "if len(name) < 1:\n",
    "    name = \"mbox-short.txt\"\n",
    "    \n",
    "handle = open(name)\n",
    "\n",
    "max_sender = None\n",
    "max_count = 0\n",
    "counts = {}\n",
    "\n",
    "for line in handle:\n",
    "    if line.startswith(\"From \"):\n",
    "        words = line.split()\n",
    "        mail = words[1]  # Extract email address\n",
    "        \n",
    "        #Update dictionary (must be inside the loop)\n",
    "        counts[mail] = counts.get(mail, 0) + 1  \n",
    "\n",
    "        #Track max sender dynamically inside the loop\n",
    "        if max_sender is None or counts[mail] > max_count:\n",
    "            max_sender = mail\n",
    "            max_count = counts[mail]\n",
    "\n",
    "# Print the most frequent sender\n",
    "print(max_sender, max_count)\n"
   ]
  },
  {
   "cell_type": "markdown",
   "id": "f14569d4-1f30-45a2-89da-1fbec968be42",
   "metadata": {},
   "source": [
    "Write a program to read through the mbox-short.txt and figure out the distribution by hour of the day for each of the messages. You can pull the hour out from the 'From ' line by finding the time and then splitting the string a second time using a colon.\n",
    "From stephen.marquard@uct.ac.za Sat Jan  5 09:14:16 2008\n",
    "Once you have accumulated the counts for each hour, print out the counts, sorted by hour as shown below."
   ]
  },
  {
   "cell_type": "code",
   "execution_count": 1,
   "id": "069b8a40-c9f3-45f3-acc9-03761168c127",
   "metadata": {},
   "outputs": [
    {
     "name": "stdout",
     "output_type": "stream",
     "text": [
      "04 3\n",
      "06 1\n",
      "07 1\n",
      "09 2\n",
      "10 3\n",
      "11 6\n",
      "14 1\n",
      "15 2\n",
      "16 4\n",
      "17 2\n",
      "18 1\n",
      "19 1\n"
     ]
    }
   ],
   "source": [
    "name = \"mbox-short.txt\"\n",
    "handle = open(name)\n",
    "counts={}\n",
    "\n",
    "for line in handle:\n",
    "    if line.startswith(\"From \"):\n",
    "        x= line.split()\n",
    "        time= x[5]\n",
    "        hr= time.split(\":\")[0]\n",
    "        counts[hr] = counts.get(hr,0) + 1\n",
    "        \n",
    "sorted_counts = dict(sorted(counts.items()))\n",
    "        \n",
    "for key, val in sorted_counts.items():\n",
    "    print(key, val)"
   ]
  },
  {
   "cell_type": "markdown",
   "id": "bf2834d2-9ea2-41c6-8b27-632f4c8877f9",
   "metadata": {},
   "source": [
    "Dictionary:"
   ]
  },
  {
   "cell_type": "code",
   "execution_count": 3,
   "id": "ff87584d-fe4b-41e2-9f64-46f4ca4ccefc",
   "metadata": {},
   "outputs": [
    {
     "name": "stdout",
     "output_type": "stream",
     "text": [
      "{'summer': 12, 'fall': 3, 'spring': 75}\n",
      "3\n"
     ]
    }
   ],
   "source": [
    "cabinet= dict()\n",
    "cabinet['summer']=12\n",
    "cabinet['fall']= 3\n",
    "cabinet['spring']= 75\n",
    "print(cabinet)\n",
    "print(cabinet[\"fall\"])"
   ]
  },
  {
   "cell_type": "code",
   "execution_count": 4,
   "id": "0752fc48-a2b2-4a9d-8508-69f315656fbb",
   "metadata": {},
   "outputs": [
    {
     "name": "stdout",
     "output_type": "stream",
     "text": [
      "{'chuck': 1, 'fred': 42, 'jan': 100}\n"
     ]
    }
   ],
   "source": [
    "jjj={'chuck':1, \"fred\": 42, \"jan\": 100}\n",
    "print(jjj)"
   ]
  },
  {
   "cell_type": "markdown",
   "id": "308db57b-6b5f-4180-98b9-8bca518d322d",
   "metadata": {},
   "source": [
    "Entry of name in the Dictionary"
   ]
  },
  {
   "cell_type": "code",
   "execution_count": 12,
   "id": "bf9f6555-ab5a-46dc-b024-d4ad35ab7121",
   "metadata": {},
   "outputs": [
    {
     "name": "stdout",
     "output_type": "stream",
     "text": [
      "{'csev': 2, 'cwen': 2, 'zquain': 1}\n"
     ]
    }
   ],
   "source": [
    "count= dict()\n",
    "names=[\"csev\", \"cwen\", \"csev\", \"zquain\", \"cwen\"]\n",
    "for name in names:\n",
    "    if name not in count:\n",
    "        count[name]=1\n",
    "    else:\n",
    "        count[name]+=1\n",
    "\n",
    "print(count)"
   ]
  },
  {
   "cell_type": "markdown",
   "id": "d1433e77-9fee-44ed-82a8-51679f19ee5a",
   "metadata": {},
   "source": [
    "List of keys and values"
   ]
  },
  {
   "cell_type": "code",
   "execution_count": 18,
   "id": "aa137916-4d09-452b-96c5-ca2447b9ebbb",
   "metadata": {},
   "outputs": [
    {
     "name": "stdout",
     "output_type": "stream",
     "text": [
      "['chuck', 'fred', 'jan']\n",
      "[('chuck', 1), ('fred', 42), ('jan', 100)]\n",
      "['chuck', 'fred', 'jan']\n",
      "[1, 42, 100]\n"
     ]
    }
   ],
   "source": [
    "jjj={'chuck':1, \"fred\": 42, \"jan\": 100}\n",
    "print(list(jjj))\n",
    "print(list(jjj.items()))\n",
    "print(list(jjj.keys()))\n",
    "print(list(jjj.values()))"
   ]
  },
  {
   "cell_type": "code",
   "execution_count": 20,
   "id": "2fd5ff06-7ead-415e-9df1-d15fb42b03a5",
   "metadata": {},
   "outputs": [
    {
     "name": "stdin",
     "output_type": "stream",
     "text": [
      "Enter file:  mbox-short.txt\n"
     ]
    },
    {
     "name": "stdout",
     "output_type": "stream",
     "text": [
      "Jan 352\n"
     ]
    }
   ],
   "source": [
    "name= input(\"Enter file: \")\n",
    "handle= open (name)\n",
    "\n",
    "counts= dict()\n",
    "for line in handle:\n",
    "    words=line.split()\n",
    "    for word in words:\n",
    "        counts[word]= counts.get(word,0)+1\n",
    "Max_count = None\n",
    "Max_word= None\n",
    "for word,count in counts.items():\n",
    "    if Max_count is None or count > Max_count:\n",
    "        Max_word = word\n",
    "        Max_count = count\n",
    "print(Max_word, Max_count)"
   ]
  },
  {
   "cell_type": "markdown",
   "id": "3a51a049-c0f4-4aa8-99fa-880c8d1e9cb1",
   "metadata": {},
   "source": [
    "OOP:"
   ]
  },
  {
   "cell_type": "markdown",
   "id": "790487b1-b68d-435c-a52a-5f57fa8ab44f",
   "metadata": {},
   "source": [
    "example1:"
   ]
  },
  {
   "cell_type": "code",
   "execution_count": 22,
   "id": "039c7d76-9809-435d-a0f4-593d87a73762",
   "metadata": {},
   "outputs": [
    {
     "name": "stdout",
     "output_type": "stream",
     "text": [
      "500\n",
      "3000\n"
     ]
    }
   ],
   "source": [
    "class Item:\n",
    "   def calc_total_price(self, x,y):\n",
    "      return (x*y)\n",
    "\n",
    "item1= Item()\n",
    "item1.name= \"Phone\"\n",
    "item1.price= 100\n",
    "item1.quantity= 5\n",
    "\n",
    "item2= Item()\n",
    "item2.name= \"Phone\"\n",
    "item2.price= 1000\n",
    "item2.quantity= 3\n",
    "\n",
    "print(item1.calc_total_price(item1.price, item1.quantity))\n",
    "print(item2.calc_total_price(item2.price, item2.quantity))"
   ]
  },
  {
   "cell_type": "code",
   "execution_count": null,
   "id": "d6f06ca1-3d26-4c9c-b639-f587ed88632b",
   "metadata": {},
   "outputs": [],
   "source": []
  }
 ],
 "metadata": {
  "kernelspec": {
   "display_name": "Python 3 (ipykernel)",
   "language": "python",
   "name": "python3"
  },
  "language_info": {
   "codemirror_mode": {
    "name": "ipython",
    "version": 3
   },
   "file_extension": ".py",
   "mimetype": "text/x-python",
   "name": "python",
   "nbconvert_exporter": "python",
   "pygments_lexer": "ipython3",
   "version": "3.11.3"
  }
 },
 "nbformat": 4,
 "nbformat_minor": 5
}
